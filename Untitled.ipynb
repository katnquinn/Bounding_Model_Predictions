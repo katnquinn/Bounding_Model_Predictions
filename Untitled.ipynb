{
 "cells": [
  {
   "cell_type": "code",
   "execution_count": 366,
   "metadata": {},
   "outputs": [],
   "source": [
    "%matplotlib inline\n",
    "import numpy as np\n",
    "import matplotlib.pyplot as plt\n",
    "import sympy as sy\n",
    "import math\n",
    "import sys\n",
    "sys.path.insert(0,'/usr/local/lib/python3.5/dist-packages/')\n",
    "from joblib import Parallel, delayed\n",
    "from mpl_toolkits.mplot3d import proj3d\n",
    "from mpl_toolkits.mplot3d import Axes3D\n",
    "import copy as copy\n",
    "from scipy.spatial import ConvexHull\n",
    "import matplotlib.tri as mtri\n",
    "import pickle"
   ]
  },
  {
   "cell_type": "code",
   "execution_count": 367,
   "metadata": {
    "collapsed": true
   },
   "outputs": [],
   "source": [
    "def saveThing(thing,file):\n",
    "    with open(file,'wb') as fil:\n",
    "        pick = pickle.Pickler(fil,protocol=4)\n",
    "        pick.dump(thing)\n",
    "        pick.clear_memo()\n",
    "def openThing(file):\n",
    "    with open(file,'rb') as fil:\n",
    "        pick = pickle.Unpickler(fil)\n",
    "        thing = pick.load()\n",
    "    return thing"
   ]
  },
  {
   "cell_type": "code",
   "execution_count": 310,
   "metadata": {
    "collapsed": true
   },
   "outputs": [],
   "source": [
    "def velocity(theta1,theta2,theta3,theta4,sub):\n",
    "    return (theta1*sub**2+theta2*sub)/(sub**2+theta3*sub+theta4)\n",
    "\n",
    "def dVelocity(theta1,theta2,theta3,theta4,sub,n):\n",
    "    t1,t2,t3,t4,u = sy.symbols(\"t1 t2 t3 t4 u\")\n",
    "    v = (t1*u**2 + t2*u)/(u**2 + t3*u + t4)\n",
    "    d = sy.diff(v,u,n)\n",
    "    \n",
    "    try:\n",
    "        return np.array([d.subs([(t1,theta1),(t2,theta2),(t3,theta3),(t4,theta4),(u,s)]) for s in sub])\n",
    "    \n",
    "    except TypeError:\n",
    "        return d.subs([(t1,theta1),(t2,theta2),(t3,theta3),(t4,theta4),(u,sub)])\n",
    "    \n",
    "def useParam(theta1,theta2,theta3,theta4,xList,C=1,R=1):\n",
    "    terms = velocity(theta1,theta2,theta3,theta4,xList)\n",
    "    for t in terms:\n",
    "        if t < 0:\n",
    "            return False\n",
    "    for k in range(len(xList)):\n",
    "        terms = abs(dVelocity(theta1,theta2,theta3,theta4,xList,k)/math.factorial(k))\n",
    "        for t in terms:\n",
    "            if t > C*R**(-k):\n",
    "                return False\n",
    "    return True\n",
    "\n",
    "def findParam(xList,thetaNumRange,thetaDemRange,C=1,R=1):\n",
    "    theta1,theta2 = 10**(thetaNumRange * (np.random.rand(2)*2-1))\n",
    "    theta3,theta4 = 10**(thetaDemRange * (np.random.rand(2)*2-1))\n",
    "    if useParam(theta1,theta2,theta3,theta4,xList,C=C,R=R):\n",
    "        return [theta1,theta2,theta3,theta4]"
   ]
  },
  {
   "cell_type": "code",
   "execution_count": 343,
   "metadata": {
    "collapsed": true
   },
   "outputs": [],
   "source": [
    "def Tn(x,n):\n",
    "    return np.cos(n*np.arccos(x))\n",
    "\n",
    "def JCheb(xList,rho,n=0):\n",
    "    if n == 0:\n",
    "        n = len(xList)\n",
    "    return np.array([[rho**(-d)*Tn(x,d) for d in range(n)] for x in xList])\n",
    "\n",
    "# k = # coeffs, assume |y^n(t)/n!|< CR^(-n)\n",
    "# for small k, use table values. \n",
    "# this is an asymptotic formula that assumes R > 1. \n",
    "def Ellipse_params(C, R, k):  \n",
    "    k = k-1\n",
    "    rn1 = R - 2*k*R + k**2*R \n",
    "    rn2 = -np.sqrt( k**2-2*k + R**2 - 2*k*R**2 + k**2*R**2) \n",
    "    d = (k-2)*k\n",
    "    r = (rn1 + rn2)/d \n",
    "\n",
    "    M = C*R/(R-r)\n",
    "    rho = r + np.sqrt(r**2 + 1)\n",
    "    return np.array([rho, M, r])"
   ]
  },
  {
   "cell_type": "code",
   "execution_count": null,
   "metadata": {},
   "outputs": [],
   "source": [
    "xList = np.linspace(0,2,17)\n",
    "C = 1\n",
    "R = 2\n",
    "thetaNumRange = 1\n",
    "thetaDemRange = 1\n",
    "thetas = []\n",
    "thetas = Parallel(n_jobs=14)(delayed(findParam)(xList,thetaNumRange,thetaDemRange,C=C,R=R) for i in range(10**8))\n",
    "points = []\n",
    "for thetaSet in thetas:\n",
    "    if thetaSet != None:\n",
    "        points.append(thetaSet)\n",
    "print(len(thetas))\n",
    "print(len(points))"
   ]
  },
  {
   "cell_type": "code",
   "execution_count": null,
   "metadata": {},
   "outputs": [],
   "source": [
    "sampledPoints = [{'thetaList':thetaSet, 'xList':xList, 'pointVals':velocity(theta1,theta2,theta3,theta4,xList)} for theta1,theta2,theta3,theata4 in points]"
   ]
  },
  {
   "cell_type": "code",
   "execution_count": null,
   "metadata": {
    "collapsed": true
   },
   "outputs": [],
   "source": [
    "saveThing(sampledPoints,'sampledReactionRates.pckl')"
   ]
  },
  {
   "cell_type": "code",
   "execution_count": null,
   "metadata": {},
   "outputs": [],
   "source": [
    "rho,M,r = Ellipse_params(C,R,len(xList))"
   ]
  },
  {
   "cell_type": "code",
   "execution_count": null,
   "metadata": {},
   "outputs": [],
   "source": [
    "fig = plt.figure(figsize=(10,10))\n",
    "ax = fig.add_subplot(111, projection='3d')\n",
    "\n",
    "### WIREFRAME ###\n",
    "xList = np.array(sampledPoints[0]['xList'])\n",
    "xShifted = xList - (max(xList)+min(xList))/2\n",
    "J = JCheb(xShifted,rho)\n",
    "u,s,vt = np.linalg.svd(J)\n",
    "\n",
    "theta = np.linspace(0, 2 * np.pi, 200)\n",
    "phi = np.linspace(0, np.pi, 200)\n",
    "\n",
    "radius = M*np.sqrt(4*len(xList)-3)\n",
    "x = radius*np.outer(np.cos(theta), np.sin(phi))\n",
    "y = radius*np.outer(np.sin(theta), np.sin(phi))\n",
    "z = radius*np.outer(np.ones_like(theta), np.cos(phi))\n",
    "\n",
    "x_rot = copy.deepcopy(x)\n",
    "y_rot = copy.deepcopy(y)\n",
    "z_rot = copy.deepcopy(z)\n",
    "\n",
    "Jacob = np.dot(np.diag(s[0:3]),[[0,0,1],[0,1,0],[1,0,0]])\n",
    "for i in range(len(x_rot)):\n",
    "    for j in range(len(x_rot[0])):\n",
    "        vect = [x_rot[i][j],y_rot[i][j],z_rot[i][j]]\n",
    "        vect_rot = np.dot(Jacob,vect)\n",
    "        x_rot[i][j] = vect_rot[1]\n",
    "        y_rot[i][j] = vect_rot[2]\n",
    "        z_rot[i][j] = vect_rot[0]\n",
    "\n",
    "ax.plot_wireframe(x_rot, y_rot, z_rot, rstride=5, cstride=4, alpha=0.2,label='Bound from Chebychev')\n",
    "\n",
    "### MODEL MANIFOLD ###\n",
    "\n",
    "proj = np.dot([p['pointVals'] for p in sampledPoints],u)\n",
    "\n",
    "pointsX = proj[:,1]\n",
    "pointsY = proj[:,2]\n",
    "pointsZ = proj[:,0]\n",
    "\n",
    "ax.scatter3D(pointsX,pointsY,pointsZ,color='C1',edgecolors='black',s=1,linewidth=0.1,label='Model Predictions')\n",
    "\n",
    "# Adjustment of the axes, so that they all have the same span:\n",
    "max_radius = radius*s[0]\n",
    "for axis in 'xyz':\n",
    "    getattr(ax, 'set_{}lim'.format(axis))((-max_radius, max_radius))\n",
    "#ax.view_init(0,0)\n",
    "#ax.set_xlabel('first time point')\n",
    "#ax.set_ylabel('second time point')\n",
    "#ax.set_zlabel('third time point')\n",
    "\n",
    "plt.show()\n",
    "#trianglePlotBound(proj,['C1' for p in sampledPoints0],s,len(xList),dim=4)"
   ]
  },
  {
   "cell_type": "code",
   "execution_count": null,
   "metadata": {},
   "outputs": [],
   "source": [
    "lengths = np.array([max(proj[:,i])-min(proj[:,i]) for i in range(proj.shape[1])])\n",
    "blur = 4*M*rho**(1-len(xList))/(rho-1)\n",
    "polyLengths = 2*radius*s\n",
    "approxLengths = [2*M*np.sqrt(2*len(xList)**2-3*len(xList))*rho**(2-j)/np.sqrt(rho**2-1) + blur for j in range(len(xList))]\n",
    "\n",
    "plt.figure(figsize=(7,6))\n",
    "plt.plot([i for i in range(len(lengths))],lengths,label='Model Manifold',marker='o')\n",
    "#plt.plot([i for i in range(len(polyLengths))],polyLengths,label=r'$\\ell_j(H_P)$',marker='o')\n",
    "plt.plot([i for i in range(len(approxLengths))],approxLengths,label='Bound on Length',marker='o')\n",
    "plt.yscale('log')\n",
    "#limits = np.array([min([min(x) for x in [lengths, polyLengths]]),max([max(x) for x in [lengths, polyLengths]])])\n",
    "#plt.ylim(limits)\n",
    "plt.xticks(fontsize=16)\n",
    "plt.yticks(fontsize=16)\n",
    "plt.xlabel('Ordered Hyperellipsoid Axes',fontsize=20)\n",
    "plt.ylabel('Prediction Space Distance',fontsize=20)\n",
    "plt.title('Manifold Lengths\\nAlong Different Directions',fontsize=20)\n",
    "plt.legend(fontsize=20,loc='lower left')\n",
    "plt.show()"
   ]
  },
  {
   "cell_type": "code",
   "execution_count": null,
   "metadata": {},
   "outputs": [],
   "source": [
    "fig = plt.figure(figsize=(10,10))\n",
    "ax = fig.add_subplot(111, projection='3d')\n",
    "\n",
    "#proj = np.dot([p['pointVals'] for p in sampledPoints0],u)\n",
    "\n",
    "allPoints = np.array([p['pointVals'] for p in sampledPoints])\n",
    "\n",
    "pointsX = allPoints[:,0]\n",
    "pointsY = allPoints[:,1]\n",
    "pointsZ = allPoints[:,2]\n",
    "\n",
    "ax.scatter3D(pointsX,pointsY,pointsZ,color='C0',edgecolors='black',s=10,linewidth=0.1,label='Model Predictions')\n",
    "\n",
    "# Adjustment of the axes, so that they all have the same span:\n",
    "max_radius = max([max(pointsX),max(pointsY),max(pointsZ)])\n",
    "for axis in 'xyz':\n",
    "    getattr(ax, 'set_{}lim'.format(axis))((0, max_radius))\n",
    "#ax.view_init(0,0)\n",
    "ax.set_xlabel(r'$y_{\\theta}(t_{0})$',fontsize=16)\n",
    "ax.set_ylabel(r'$y_{\\theta}(t_{8})$',fontsize=16)\n",
    "ax.set_zlabel(r'$y_{\\theta}(t_{16})$',fontsize=16)\n",
    "\n",
    "plt.show()\n",
    "#trianglePlotBound(proj,['C1' for p in sampledPoints0],s,len(xList),dim=4)\n",
    "#trianglePlot(allPoints,['C1' for p in sampledPoints0],dim=5)"
   ]
  },
  {
   "cell_type": "code",
   "execution_count": null,
   "metadata": {},
   "outputs": [],
   "source": [
    "hullPoints = np.array([pointsX,pointsY,pointsZ]).T\n",
    "hull = ConvexHull(hullPoints)\n",
    "tri = mtri.Triangulation(pointsX, pointsY, triangles=hull.simplices)\n",
    "\n",
    "fig = plt.figure(figsize=(8,8))\n",
    "ax = fig.add_subplot(111, projection='3d')\n",
    "ax.scatter3D(pointsX,pointsY,pointsZ,color='C0',edgecolors='black',s=10,linewidth=0.1,label='Model Predictions with \\nDifferent Parameters ('+r'$\\theta$'+')')\n",
    "ax.plot_trisurf(tri, pointsZ, color='C0',alpha=0.3)\n",
    "\n",
    "for axis in 'xyz':\n",
    "    getattr(ax, 'set_{}lim'.format(axis))((0, max_radius))\n",
    "\n",
    "ax.set_xlabel(r'$y_{\\theta}(t_{0})$',fontsize=20)\n",
    "ax.set_ylabel(r'$y_{\\theta}(t_{8})$',fontsize=20)\n",
    "ax.set_zlabel(r'$y_{\\theta}(t_{16})$',fontsize=20)\n",
    "\n",
    "label1 = mlines.Line2D([], [], color='C0',marker='o',linewidth=0, markersize=10, label='Model Predictions at '+r'$(t_0,t_{8},t_{16})$'+'\\nFor Different Model Parameters '+r'$(\\theta)$')\n",
    "plt.legend(handles=[label1],fontsize=20,loc = 'upper right')\n",
    "\n",
    "plt.show()"
   ]
  },
  {
   "cell_type": "code",
   "execution_count": null,
   "metadata": {
    "collapsed": true
   },
   "outputs": [],
   "source": []
  }
 ],
 "metadata": {
  "kernelspec": {
   "display_name": "Python [Root]",
   "language": "python",
   "name": "Python [Root]"
  },
  "language_info": {
   "codemirror_mode": {
    "name": "ipython",
    "version": 3
   },
   "file_extension": ".py",
   "mimetype": "text/x-python",
   "name": "python",
   "nbconvert_exporter": "python",
   "pygments_lexer": "ipython3",
   "version": "3.5.3"
  }
 },
 "nbformat": 4,
 "nbformat_minor": 2
}
