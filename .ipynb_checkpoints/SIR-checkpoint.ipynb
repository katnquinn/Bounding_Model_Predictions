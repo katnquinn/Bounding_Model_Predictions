{
 "cells": [
  {
   "cell_type": "code",
   "execution_count": 1,
   "metadata": {
    "collapsed": true
   },
   "outputs": [],
   "source": [
    "%matplotlib inline\n",
    "import numpy as np\n",
    "import matplotlib.pyplot as plt\n",
    "import sympy as sy\n",
    "import math\n",
    "import sys\n",
    "#sys.path.insert(0,'/usr/local/lib/python3.5/dist-packages/')\n",
    "from joblib import Parallel, delayed\n",
    "from mpl_toolkits.mplot3d import proj3d\n",
    "from mpl_toolkits.mplot3d import Axes3D\n",
    "import copy as copy\n",
    "from scipy.spatial import ConvexHull\n",
    "import matplotlib.tri as mtri\n",
    "import pickle\n",
    "from scipy.integrate import odeint"
   ]
  },
  {
   "cell_type": "code",
   "execution_count": 2,
   "metadata": {
    "collapsed": true
   },
   "outputs": [],
   "source": [
    "def saveThing(thing,file):\n",
    "    with open(file,'wb') as fil:\n",
    "        pick = pickle.Pickler(fil,protocol=4)\n",
    "        pick.dump(thing)\n",
    "        pick.clear_memo()\n",
    "def openThing(file):\n",
    "    with open(file,'rb') as fil:\n",
    "        pick = pickle.Unpickler(fil)\n",
    "        thing = pick.load()\n",
    "    return thing"
   ]
  },
  {
   "cell_type": "code",
   "execution_count": 150,
   "metadata": {
    "collapsed": true
   },
   "outputs": [],
   "source": [
    "def Tn(x,n):\n",
    "    return np.cos(n*np.arccos(x))\n",
    "\n",
    "def JCheb(xList,rho,n=0):\n",
    "    if n == 0:\n",
    "        n = len(xList)\n",
    "    return np.array([[rho**(-d)*Tn(x,d) for d in range(n)] for x in xList])\n",
    "\n",
    "# k = # coeffs, assume |y^n(t)/n!|< CR^(-n)\n",
    "# for small k, use table values. \n",
    "# this is an asymptotic formula that assumes R > 1. \n",
    "def Ellipse_params(C, R, k):  \n",
    "    k = k-1\n",
    "    rn1 = R - 2*k*R + k**2*R \n",
    "    rn2 = -np.sqrt( k**2-2*k + R**2 - 2*k*R**2 + k**2*R**2) \n",
    "    d = (k-2)*k\n",
    "    r = (rn1 + rn2)/d \n",
    "\n",
    "    M = C*R/(R-r)\n",
    "    rho = r + np.sqrt(r**2 + 1)\n",
    "    return np.array([rho, M, r])"
   ]
  },
  {
   "cell_type": "code",
   "execution_count": 295,
   "metadata": {
    "collapsed": false
   },
   "outputs": [],
   "source": [
    "S_sym, I_sym, R_sym, t_sym = sy.symbols(\"S_sym I_sym R_sym t_sym\")\n",
    "dS_sym, dI_sym, dR_sym = sy.symbols(\"dS_sym dI_sym dR_sym\")\n",
    "beta_sym, gamma_sym = sy.symbols(\"beta_sym gamma_sym\")\n",
    "\n",
    "dS_sym = -beta_sym*S_sym(t_sym)*I_sym(t_sym)\n",
    "dI_sym = beta_sym*S_sym(t_sym)*I_sym(t_sym) - gamma_sym*I_sym(t_sym)\n",
    "dR_sym = gamma_sym*I_sym(t_sym)\n",
    "\n",
    "derivSubs = [(sy.Derivative(S_sym(t_sym), t_sym),dS_sym),(sy.Derivative(I_sym(t_sym), t_sym),dI_sym)]\n",
    "\n",
    "derivs = [I_sym(t_sym),dI_sym]\n",
    "for i in range(2):\n",
    "    derivs.append(derivs[-1].diff(t_sym).subs(derivSubs))\n",
    "\n",
    "def evalDeriv(S,I,der):\n",
    "    S_sym, I_sym, R_sym, t_sym = sy.symbols(\"S_sym I_sym R_sym t_sym\")\n",
    "    dS_sym, dI_sym, dR_sym = sy.symbols(\"dS_sym dI_sym dR_sym\")\n",
    "    beta_sym, gamma_sym = sy.symbols(\"beta_sym gamma_sym\")\n",
    "    return np.array([der.subs([(I_sym(t_sym),I[i]),(S_sym(t_sym),S[i]),(beta_sym,beta),(gamma_sym,gamma)]) for i in range(len(S))])"
   ]
  },
  {
   "cell_type": "code",
   "execution_count": 296,
   "metadata": {
    "collapsed": false
   },
   "outputs": [],
   "source": [
    "def deriv(y, t, beta, gamma):\n",
    "    S, I, R = y\n",
    "    dSdt = -beta * S * I\n",
    "    dIdt = beta * S * I - gamma * I\n",
    "    dRdt = gamma * I\n",
    "    return dSdt, dIdt, dRdt\n",
    "\n",
    "def SIR(beta, gamma, I0, xList):\n",
    "    R0 = 0\n",
    "    S0 = 1 - I0 - R0\n",
    "    y0 = S0, I0, R0\n",
    "    ret = odeint(deriv, y0, xList, args=(beta, gamma))\n",
    "    S, I, R = ret.T\n",
    "    return np.array([S, I]).T\n",
    "\n",
    "def useParams(S,I,xList,C=1,R=2):\n",
    "    for i in range(len(xList)):\n",
    "        der = derivs[i]\n",
    "        terms = abs(evalDeriv(S,I,der)/math.factorial(i))\n",
    "        for t in terms:\n",
    "            print(t,C*R**(-i))\n",
    "            if t > C*R**(-i):\n",
    "                return False\n",
    "    return True\n",
    "    \n",
    "def findParam(xList,betaRange,gammaRange,C=1,R=2):\n",
    "    beta = 10**(betaRange*(np.random.rand()*2-1))\n",
    "    gamma = 10**(gammaRange*(np.random.rand()*2-1))\n",
    "    I0 = np.random.rand()\n",
    "    \n",
    "    pointVals = SIR(beta,gamma,I0,xList)\n",
    "    S,I = pointVals.T\n",
    "    \n",
    "    if useParams(S,I,xList,C=C,R=R):\n",
    "        return {'xList':xList,'I':I,'S':S}"
   ]
  },
  {
   "cell_type": "code",
   "execution_count": null,
   "metadata": {
    "collapsed": false
   },
   "outputs": [],
   "source": [
    "xList = np.linspace(0, 2, len(derivs))\n",
    "\n",
    "betaRange = 1.0\n",
    "gammaRange = 1.0\n",
    "C=1\n",
    "R=2\n",
    "\n",
    "\n",
    "points = Parallel(n_jobs=8)(delayed(findParam)(xList,betaRange,gammaRange,C=C,R=R) for i in range(10**4))\n",
    "\n",
    "sampledPoints = []\n",
    "for p in points:\n",
    "    if p != None:\n",
    "        sampledPoints.append(p)\n",
    "        \n",
    "print(len(points))\n",
    "print(len(sampledPoints))"
   ]
  },
  {
   "cell_type": "code",
   "execution_count": null,
   "metadata": {
    "collapsed": false
   },
   "outputs": [],
   "source": [
    "rho,M,r = Ellipse_params(C,R,len(xList))"
   ]
  },
  {
   "cell_type": "code",
   "execution_count": null,
   "metadata": {
    "collapsed": false
   },
   "outputs": [],
   "source": [
    "fig = plt.figure(figsize=(10,10))\n",
    "ax = fig.add_subplot(111, projection='3d')\n",
    "\n",
    "### WIREFRAME ###\n",
    "xList = np.array(sampledPoints[0]['xList'])\n",
    "xShifted = xList - (max(xList)+min(xList))/2\n",
    "J = JCheb(xShifted,rho)\n",
    "u,s,vt = np.linalg.svd(J)\n",
    "\n",
    "theta = np.linspace(0, 2 * np.pi, 200)\n",
    "phi = np.linspace(0, np.pi, 200)\n",
    "\n",
    "radius = M*np.sqrt(4*len(xList)-3)\n",
    "x = radius*np.outer(np.cos(theta), np.sin(phi))\n",
    "y = radius*np.outer(np.sin(theta), np.sin(phi))\n",
    "z = radius*np.outer(np.ones_like(theta), np.cos(phi))\n",
    "\n",
    "x_rot = copy.deepcopy(x)\n",
    "y_rot = copy.deepcopy(y)\n",
    "z_rot = copy.deepcopy(z)\n",
    "\n",
    "Jacob = np.dot(np.diag(s[0:3]),[[0,0,1],[0,1,0],[1,0,0]])\n",
    "for i in range(len(x_rot)):\n",
    "    for j in range(len(x_rot[0])):\n",
    "        vect = [x_rot[i][j],y_rot[i][j],z_rot[i][j]]\n",
    "        vect_rot = np.dot(Jacob,vect)\n",
    "        x_rot[i][j] = vect_rot[1]\n",
    "        y_rot[i][j] = vect_rot[2]\n",
    "        z_rot[i][j] = vect_rot[0]\n",
    "\n",
    "ax.plot_wireframe(x_rot, y_rot, z_rot, rstride=5, cstride=4, alpha=0.2,label='Bound from Chebychev')\n",
    "\n",
    "### MODEL MANIFOLD ###\n",
    "\n",
    "proj = np.dot([p['I'] for p in sampledPoints],u)\n",
    "\n",
    "pointsX = proj[:,1]\n",
    "pointsY = proj[:,2]\n",
    "pointsZ = proj[:,0]\n",
    "\n",
    "ax.scatter3D(pointsX,pointsY,pointsZ,color='C1',edgecolors='black',s=1,linewidth=0.1,label='Model Predictions')\n",
    "\n",
    "# Adjustment of the axes, so that they all have the same span:\n",
    "max_radius = radius*s[0]\n",
    "for axis in 'xyz':\n",
    "    getattr(ax, 'set_{}lim'.format(axis))((-max_radius, max_radius))\n",
    "#ax.view_init(0,0)\n",
    "#ax.set_xlabel('first time point')\n",
    "#ax.set_ylabel('second time point')\n",
    "#ax.set_zlabel('third time point')\n",
    "\n",
    "plt.show()\n",
    "#trianglePlotBound(proj,['C1' for p in sampledPoints0],s,len(xList),dim=4)"
   ]
  },
  {
   "cell_type": "code",
   "execution_count": null,
   "metadata": {
    "collapsed": false
   },
   "outputs": [],
   "source": [
    "lengths = np.array([max(proj[:,i])-min(proj[:,i]) for i in range(proj.shape[1])])\n",
    "blur = 4*M*rho**(1-len(xList))/(rho-1)\n",
    "polyLengths = 2*radius*s\n",
    "approxLengths = [2*M*np.sqrt(2*len(xList)**2-3*len(xList))*rho**(2-j)/np.sqrt(rho**2-1) + blur for j in range(len(xList))]\n",
    "\n",
    "plt.figure(figsize=(7,6))\n",
    "plt.plot([i for i in range(len(lengths))],lengths,label='Model Manifold',marker='o')\n",
    "#plt.plot([i for i in range(len(polyLengths))],polyLengths,label=r'$\\ell_j(H_P)$',marker='o')\n",
    "plt.plot([i for i in range(len(approxLengths))],approxLengths,label='Bound on Length',marker='o')\n",
    "plt.yscale('log')\n",
    "#limits = np.array([min([min(x) for x in [lengths, polyLengths]]),max([max(x) for x in [lengths, polyLengths]])])\n",
    "#plt.ylim(limits)\n",
    "plt.xticks(fontsize=16)\n",
    "plt.yticks(fontsize=16)\n",
    "plt.xlabel('Ordered Hyperellipsoid Axes',fontsize=20)\n",
    "plt.ylabel('Prediction Space Distance',fontsize=20)\n",
    "plt.title('Manifold Lengths\\nAlong Different Directions',fontsize=20)\n",
    "plt.legend(fontsize=20,loc='lower left')\n",
    "plt.show()"
   ]
  },
  {
   "cell_type": "code",
   "execution_count": null,
   "metadata": {
    "collapsed": false
   },
   "outputs": [],
   "source": [
    "fig = plt.figure(figsize=(10,10))\n",
    "ax = fig.add_subplot(111, projection='3d')\n",
    "\n",
    "#proj = np.dot([p['pointVals'] for p in sampledPoints0],u)\n",
    "\n",
    "allPoints = np.array([p['I'] for p in sampledPoints])\n",
    "\n",
    "pointsX = allPoints[:,0]\n",
    "pointsY = allPoints[:,1]\n",
    "pointsZ = allPoints[:,2]\n",
    "\n",
    "ax.scatter3D(pointsX,pointsY,pointsZ,color='C0',edgecolors='black',s=10,linewidth=0.1,label='Model Predictions')\n",
    "\n",
    "# Adjustment of the axes, so that they all have the same span:\n",
    "max_radius = max([max(pointsX),max(pointsY),max(pointsZ)])\n",
    "for axis in 'xyz':\n",
    "    getattr(ax, 'set_{}lim'.format(axis))((0, max_radius))\n",
    "#ax.view_init(0,0)\n",
    "ax.set_xlabel(r'$y_{\\theta}(t_{0})$',fontsize=16)\n",
    "ax.set_ylabel(r'$y_{\\theta}(t_{8})$',fontsize=16)\n",
    "ax.set_zlabel(r'$y_{\\theta}(t_{16})$',fontsize=16)\n",
    "\n",
    "plt.show()\n",
    "#trianglePlotBound(proj,['C1' for p in sampledPoints0],s,len(xList),dim=4)\n",
    "#trianglePlot(allPoints,['C1' for p in sampledPoints0],dim=5)"
   ]
  },
  {
   "cell_type": "code",
   "execution_count": null,
   "metadata": {
    "collapsed": false
   },
   "outputs": [],
   "source": [
    "hullPoints = np.array([pointsX,pointsY,pointsZ]).T\n",
    "hull = ConvexHull(hullPoints)\n",
    "tri = mtri.Triangulation(pointsX, pointsY, triangles=hull.simplices)\n",
    "\n",
    "fig = plt.figure(figsize=(8,8))\n",
    "ax = fig.add_subplot(111, projection='3d')\n",
    "ax.scatter3D(pointsX,pointsY,pointsZ,color='C0',edgecolors='black',s=10,linewidth=0.1,label='Model Predictions with \\nDifferent Parameters ('+r'$\\theta$'+')')\n",
    "ax.plot_trisurf(tri, pointsZ, color='C0',alpha=0.3)\n",
    "\n",
    "for axis in 'xyz':\n",
    "    getattr(ax, 'set_{}lim'.format(axis))((0, max_radius))\n",
    "\n",
    "ax.set_xlabel(r'$y_{\\theta}(t_{0})$',fontsize=20)\n",
    "ax.set_ylabel(r'$y_{\\theta}(t_{8})$',fontsize=20)\n",
    "ax.set_zlabel(r'$y_{\\theta}(t_{16})$',fontsize=20)\n",
    "\n",
    "#label1 = mlines.Line2D([], [], color='C0',marker='o',linewidth=0, markersize=10, label='Model Predictions at '+r'$(t_0,t_{8},t_{16})$'+'\\nFor Different Model Parameters '+r'$(\\theta)$')\n",
    "#plt.legend(handles=[label1],fontsize=20,loc = 'upper right')\n",
    "\n",
    "plt.show()"
   ]
  },
  {
   "cell_type": "code",
   "execution_count": null,
   "metadata": {
    "collapsed": true
   },
   "outputs": [],
   "source": []
  }
 ],
 "metadata": {
  "kernelspec": {
   "display_name": "Python 3",
   "language": "python",
   "name": "python3"
  },
  "language_info": {
   "codemirror_mode": {
    "name": "ipython",
    "version": 3
   },
   "file_extension": ".py",
   "mimetype": "text/x-python",
   "name": "python",
   "nbconvert_exporter": "python",
   "pygments_lexer": "ipython3",
   "version": "3.4.3"
  }
 },
 "nbformat": 4,
 "nbformat_minor": 1
}
